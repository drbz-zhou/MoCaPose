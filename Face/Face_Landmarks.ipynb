{
 "cells": [
  {
   "cell_type": "markdown",
   "id": "6c832839",
   "metadata": {},
   "source": [
    "#### Libraries"
   ]
  },
  {
   "cell_type": "code",
   "execution_count": 13,
   "id": "caf0b6be",
   "metadata": {},
   "outputs": [],
   "source": [
    "import cv2\n",
    "import mediapipe as mp"
   ]
  },
  {
   "cell_type": "markdown",
   "id": "23b5592d",
   "metadata": {},
   "source": [
    "#### For Recorded Video: ####"
   ]
  },
  {
   "cell_type": "code",
   "execution_count": 31,
   "id": "8fc22acc",
   "metadata": {},
   "outputs": [
    {
     "name": "stdout",
     "output_type": "stream",
     "text": [
      "Number of Frames:  323\n",
      "Number of Total Facial LandMarks:  151164\n"
     ]
    }
   ],
   "source": [
    "#Read a set of frames from the video.\n",
    "video_frames = cv2.VideoCapture(\"Imagenes_Face\\Videos\\FaceShieldVideo (1).mov\")\n",
    "video_length = int(video_frames.get(cv2.CAP_PROP_FRAME_COUNT))\n",
    "\n",
    "#Setup face mesh model object (there are several parameters pending for tuning up).\n",
    "mp_face_mesh = mp.solutions.face_mesh\n",
    "face_mesh = mp_face_mesh.FaceMesh(min_detection_confidence=0.5, min_tracking_confidence=0.5)\n",
    "\n",
    "#Setup video saving properties.\n",
    "fourcc = cv2.VideoWriter_fourcc(*'MJPG')\n",
    "out = cv2.VideoWriter('output.avi', fourcc, 20.0, (350, 600))\n",
    "\n",
    "landmarks_video = []\n",
    "\n",
    "for frames in range(video_length):\n",
    "    \n",
    "    landmarks_frame = []\n",
    "    #Read a frame from set of frames.\n",
    "    ret, face_image = video_frames.read()\n",
    "    #Resize to standard size (right size still pending to validate)\n",
    "    face_image = cv2.resize(face_image, (350, 600))\n",
    "    #Get height and width of image for further calculations ahead (defined above).\n",
    "    height, width, _ = face_image.shape\n",
    "    #Convert the BGR image to RGB (required by library).\n",
    "    rgb_image = cv2.cvtColor(face_image, cv2.COLOR_BGR2RGB)\n",
    "\n",
    "    #Get facial landmarks from the image:\n",
    "    result = face_mesh.process(rgb_image)\n",
    "    #Only one face, first element.\n",
    "    facial_landmarks = result.multi_face_landmarks[0]\n",
    "    \n",
    "    #The models generate 468 normalized [x,y,z] facial landmarks. \n",
    "    for i in range(len(facial_landmarks.landmark)):\n",
    "        #Denormalize: multiply X coordinate by width and Y coordinate by height.\n",
    "        x = int(facial_landmarks.landmark[i].x * width)\n",
    "        y = int(facial_landmarks.landmark[i].y * height)\n",
    "        #Save tuple of normalized (x,y) coordinates.\n",
    "        landmarks_frame.append((facial_landmarks.landmark[i].x,facial_landmarks.landmark[i].y))\n",
    "        #Attach denormalize facial landmarks to frame.\n",
    "        cv2.circle(face_image,(x,y),2,(100,100,0),-1)\n",
    "        \n",
    "    #Save each modified frame.  \n",
    "    out.write(face_image)\n",
    "    \n",
    "    #Save lists of 468 facial landmarks from each frame.\n",
    "    landmarks_video.append(landmarks_frame)\n",
    "        \n",
    "    cv2.waitKey(1)\n",
    "\n",
    "print(\"Number of Frames: \",len(landmarks_video))\n",
    "print(\"Number of Total Facial LandMarks: \",len(landmarks_video)*len(landmarks_video[0]))"
   ]
  },
  {
   "cell_type": "markdown",
   "id": "139d4ff0",
   "metadata": {},
   "source": [
    "#### For single Photo: ####"
   ]
  },
  {
   "cell_type": "code",
   "execution_count": 16,
   "id": "a2ad21eb",
   "metadata": {},
   "outputs": [
    {
     "data": {
      "text/plain": [
       "-1"
      ]
     },
     "execution_count": 16,
     "metadata": {},
     "output_type": "execute_result"
    }
   ],
   "source": [
    "#Read image.\n",
    "face_image = cv2.imread(\"Imagenes_Face\\IMG_1952.jpg\")\n",
    "\n",
    "#Setup face mesh model object (there are several parameters pending for tuning up).\n",
    "mp_face_mesh = mp.solutions.face_mesh\n",
    "face_mesh = mp_face_mesh.FaceMesh()\n",
    "\n",
    "#Resize to standard size (right size still pending to validate)\n",
    "face_image = cv2.resize(face_image, (350, 600))\n",
    "#Get height and width of image for further calculations ahead (defined above).\n",
    "height, widht, _ = face_image.shape\n",
    "#Convert the BGR image to RGB (required by library).\n",
    "rgb_image = cv2.cvtColor(face_image, cv2.COLOR_BGR2RGB)\n",
    "\n",
    "#Get facial landmarks from the image:\n",
    "result = face_mesh.process(rgb_image)\n",
    "#Only one face, first element.\n",
    "facial_landmarks = result.multi_face_landmarks[0]\n",
    "  \n",
    "#The models generate 468 normalized [x,y,z] facial landmarks.      \n",
    "for i in range(len(facial_landmarks.landmark)):\n",
    "    #Denormalize: multiply X coordinate by width and Y coordinate by height.\n",
    "    x = int(facial_landmarks.landmark[i].x * widht)\n",
    "    y = int(facial_landmarks.landmark[i].y * height)\n",
    "    #Attach denormalize facial landmarks to frame.\n",
    "    cv2.circle(face_image,(x,y),2,(100,100,0),-1)\n",
    "        \n",
    "cv2.imshow(\"Face Image\",face_image)\n",
    "cv2.waitKey(0)"
   ]
  },
  {
   "cell_type": "code",
   "execution_count": null,
   "id": "1268d13e",
   "metadata": {},
   "outputs": [],
   "source": []
  },
  {
   "cell_type": "code",
   "execution_count": null,
   "id": "94e4f1bb",
   "metadata": {},
   "outputs": [],
   "source": []
  }
 ],
 "metadata": {
  "kernelspec": {
   "display_name": "Python 3",
   "language": "python",
   "name": "python3"
  },
  "language_info": {
   "codemirror_mode": {
    "name": "ipython",
    "version": 3
   },
   "file_extension": ".py",
   "mimetype": "text/x-python",
   "name": "python",
   "nbconvert_exporter": "python",
   "pygments_lexer": "ipython3",
   "version": "3.8.8"
  }
 },
 "nbformat": 4,
 "nbformat_minor": 5
}
